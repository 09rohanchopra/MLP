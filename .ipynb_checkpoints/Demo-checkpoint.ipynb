{
 "cells": [
  {
   "cell_type": "code",
   "execution_count": 1,
   "metadata": {
    "collapsed": true
   },
   "outputs": [],
   "source": [
    "import numpy as np\n",
    "import matplotlib.pyplot as plt\n",
    "from tensorflow.examples.tutorials.mnist import input_data\n",
    "from network import Network\n",
    "\n",
    "from builtin import BuiltInFCLayer, BuiltInReLULayer, BuiltInSigmoidLayer, BuiltInSGDwithMomentum\n",
    "\n",
    "from layers import FCLayer, ReLULayer, SigmoidLayer\n",
    "\n",
    "from criterion import SoftmaxCrossEntropy\n",
    "from optimizer import SGD\n",
    "\n",
    "from solver import train, test\n",
    "from plot import plot_loss_and_acc"
   ]
  },
  {
   "cell_type": "code",
   "execution_count": 2,
   "metadata": {
    "collapsed": true
   },
   "outputs": [],
   "source": [
    "%matplotlib inline"
   ]
  },
  {
   "cell_type": "markdown",
   "metadata": {},
   "source": [
    "### Set Hyperparameters"
   ]
  },
  {
   "cell_type": "code",
   "execution_count": 3,
   "metadata": {
    "collapsed": true
   },
   "outputs": [],
   "source": [
    "batch_size = 100\n",
    "max_epoch = 20\n",
    "init_std = 0.01\n",
    "\n",
    "learning_rate = 0.1\n",
    "weight_decay = 0.00005\n",
    "momentum = 0.9\n",
    "\n",
    "disp_freq = 50"
   ]
  },
  {
   "cell_type": "markdown",
   "metadata": {},
   "source": [
    "### Build model"
   ]
  },
  {
   "cell_type": "code",
   "execution_count": 4,
   "metadata": {
    "collapsed": true
   },
   "outputs": [],
   "source": [
    "# Set use_builtin to False if you want to try your implements.\n",
    "use_builtin = True\n",
    "\n",
    "if use_builtin:\n",
    "    # These lines create a MLP with one hidden layer\n",
    "    model = Network()\n",
    "    model.add(BuiltInFCLayer(784, 256, init_std))\n",
    "    model.add(BuiltInReLULayer())\n",
    "    model.add(BuiltInFCLayer(256, 10, init_std))\n",
    "else:\n",
    "    model = Network()\n",
    "    model.add(FCLayer(784, 256, init_std))\n",
    "    model.add(ReLULayer())\n",
    "    model.add(FCLayer(256, 10, init_std))\n",
    "\n",
    "# Criterion\n",
    "criterion = SoftmaxCrossEntropy()\n",
    "\n",
    "# Optimizer\n",
    "optimizer = SGD(learning_rate, weight_decay)"
   ]
  },
  {
   "cell_type": "markdown",
   "metadata": {},
   "source": [
    "### Dataset"
   ]
  },
  {
   "cell_type": "code",
   "execution_count": 5,
   "metadata": {},
   "outputs": [
    {
     "name": "stdout",
     "output_type": "stream",
     "text": [
      "Extracting MNIST_data/train-images-idx3-ubyte.gz\n",
      "Extracting MNIST_data/train-labels-idx1-ubyte.gz\n",
      "Extracting MNIST_data/t10k-images-idx3-ubyte.gz\n",
      "Extracting MNIST_data/t10k-labels-idx1-ubyte.gz\n"
     ]
    }
   ],
   "source": [
    "mnist = input_data.read_data_sets(\"MNIST_data/\", validation_size=5000, one_hot=True)"
   ]
  },
  {
   "cell_type": "markdown",
   "metadata": {},
   "source": [
    "### Train the network"
   ]
  },
  {
   "cell_type": "code",
   "execution_count": 6,
   "metadata": {
    "scrolled": false
   },
   "outputs": [
    {
     "name": "stdout",
     "output_type": "stream",
     "text": [
      "Epoch [0][20]\t Batch [0][550]\t Training Loss 2.3009\t Accuracy 0.0600\n",
      "Epoch [0][20]\t Batch [50][550]\t Training Loss 2.1433\t Accuracy 0.5424\n",
      "Epoch [0][20]\t Batch [100][550]\t Training Loss 1.7011\t Accuracy 0.6211\n",
      "Epoch [0][20]\t Batch [150][550]\t Training Loss 1.3737\t Accuracy 0.6873\n",
      "Epoch [0][20]\t Batch [200][550]\t Training Loss 1.1693\t Accuracy 0.7285\n",
      "Epoch [0][20]\t Batch [250][550]\t Training Loss 1.0294\t Accuracy 0.7569\n",
      "Epoch [0][20]\t Batch [300][550]\t Training Loss 0.9288\t Accuracy 0.7781\n",
      "Epoch [0][20]\t Batch [350][550]\t Training Loss 0.8525\t Accuracy 0.7939\n",
      "Epoch [0][20]\t Batch [400][550]\t Training Loss 0.7928\t Accuracy 0.8064\n",
      "Epoch [0][20]\t Batch [450][550]\t Training Loss 0.7444\t Accuracy 0.8169\n",
      "Epoch [0][20]\t Batch [500][550]\t Training Loss 0.7043\t Accuracy 0.8252\n",
      "Epoch [0]\t Average training loss 0.6688\t Average training accuracy 0.8333\n",
      "Epoch [0]\t Average validation loss 0.3069\t Average validation accuracy 0.9122\n",
      "\n",
      "Epoch [1][20]\t Batch [0][550]\t Training Loss 0.4347\t Accuracy 0.8600\n",
      "Epoch [1][20]\t Batch [50][550]\t Training Loss 0.3210\t Accuracy 0.9096\n",
      "Epoch [1][20]\t Batch [100][550]\t Training Loss 0.3116\t Accuracy 0.9123\n",
      "Epoch [1][20]\t Batch [150][550]\t Training Loss 0.3101\t Accuracy 0.9120\n",
      "Epoch [1][20]\t Batch [200][550]\t Training Loss 0.3066\t Accuracy 0.9123\n",
      "Epoch [1][20]\t Batch [250][550]\t Training Loss 0.3060\t Accuracy 0.9129\n",
      "Epoch [1][20]\t Batch [300][550]\t Training Loss 0.3053\t Accuracy 0.9134\n",
      "Epoch [1][20]\t Batch [350][550]\t Training Loss 0.3015\t Accuracy 0.9148\n",
      "Epoch [1][20]\t Batch [400][550]\t Training Loss 0.2980\t Accuracy 0.9158\n",
      "Epoch [1][20]\t Batch [450][550]\t Training Loss 0.2958\t Accuracy 0.9161\n",
      "Epoch [1][20]\t Batch [500][550]\t Training Loss 0.2947\t Accuracy 0.9162\n",
      "Epoch [1]\t Average training loss 0.2910\t Average training accuracy 0.9172\n",
      "Epoch [1]\t Average validation loss 0.2398\t Average validation accuracy 0.9332\n",
      "\n",
      "Epoch [2][20]\t Batch [0][550]\t Training Loss 0.1419\t Accuracy 0.9500\n",
      "Epoch [2][20]\t Batch [50][550]\t Training Loss 0.2570\t Accuracy 0.9269\n",
      "Epoch [2][20]\t Batch [100][550]\t Training Loss 0.2557\t Accuracy 0.9274\n",
      "Epoch [2][20]\t Batch [150][550]\t Training Loss 0.2507\t Accuracy 0.9285\n",
      "Epoch [2][20]\t Batch [200][550]\t Training Loss 0.2492\t Accuracy 0.9296\n",
      "Epoch [2][20]\t Batch [250][550]\t Training Loss 0.2443\t Accuracy 0.9307\n",
      "Epoch [2][20]\t Batch [300][550]\t Training Loss 0.2431\t Accuracy 0.9307\n",
      "Epoch [2][20]\t Batch [350][550]\t Training Loss 0.2412\t Accuracy 0.9315\n",
      "Epoch [2][20]\t Batch [400][550]\t Training Loss 0.2391\t Accuracy 0.9324\n",
      "Epoch [2][20]\t Batch [450][550]\t Training Loss 0.2365\t Accuracy 0.9331\n",
      "Epoch [2][20]\t Batch [500][550]\t Training Loss 0.2339\t Accuracy 0.9334\n",
      "Epoch [2]\t Average training loss 0.2322\t Average training accuracy 0.9339\n",
      "Epoch [2]\t Average validation loss 0.1967\t Average validation accuracy 0.9466\n",
      "\n",
      "Epoch [3][20]\t Batch [0][550]\t Training Loss 0.0815\t Accuracy 0.9800\n",
      "Epoch [3][20]\t Batch [50][550]\t Training Loss 0.2013\t Accuracy 0.9429\n",
      "Epoch [3][20]\t Batch [100][550]\t Training Loss 0.1970\t Accuracy 0.9433\n",
      "Epoch [3][20]\t Batch [150][550]\t Training Loss 0.1982\t Accuracy 0.9436\n",
      "Epoch [3][20]\t Batch [200][550]\t Training Loss 0.1989\t Accuracy 0.9426\n",
      "Epoch [3][20]\t Batch [250][550]\t Training Loss 0.1989\t Accuracy 0.9427\n",
      "Epoch [3][20]\t Batch [300][550]\t Training Loss 0.1955\t Accuracy 0.9442\n",
      "Epoch [3][20]\t Batch [350][550]\t Training Loss 0.1955\t Accuracy 0.9446\n",
      "Epoch [3][20]\t Batch [400][550]\t Training Loss 0.1942\t Accuracy 0.9448\n",
      "Epoch [3][20]\t Batch [450][550]\t Training Loss 0.1936\t Accuracy 0.9447\n",
      "Epoch [3][20]\t Batch [500][550]\t Training Loss 0.1942\t Accuracy 0.9446\n",
      "Epoch [3]\t Average training loss 0.1929\t Average training accuracy 0.9449\n",
      "Epoch [3]\t Average validation loss 0.1728\t Average validation accuracy 0.9536\n",
      "\n",
      "Epoch [4][20]\t Batch [0][550]\t Training Loss 0.2923\t Accuracy 0.9300\n",
      "Epoch [4][20]\t Batch [50][550]\t Training Loss 0.1933\t Accuracy 0.9465\n",
      "Epoch [4][20]\t Batch [100][550]\t Training Loss 0.1802\t Accuracy 0.9495\n",
      "Epoch [4][20]\t Batch [150][550]\t Training Loss 0.1743\t Accuracy 0.9510\n",
      "Epoch [4][20]\t Batch [200][550]\t Training Loss 0.1737\t Accuracy 0.9504\n",
      "Epoch [4][20]\t Batch [250][550]\t Training Loss 0.1712\t Accuracy 0.9518\n",
      "Epoch [4][20]\t Batch [300][550]\t Training Loss 0.1694\t Accuracy 0.9519\n",
      "Epoch [4][20]\t Batch [350][550]\t Training Loss 0.1691\t Accuracy 0.9522\n",
      "Epoch [4][20]\t Batch [400][550]\t Training Loss 0.1691\t Accuracy 0.9522\n",
      "Epoch [4][20]\t Batch [450][550]\t Training Loss 0.1678\t Accuracy 0.9523\n",
      "Epoch [4][20]\t Batch [500][550]\t Training Loss 0.1665\t Accuracy 0.9526\n",
      "Epoch [4]\t Average training loss 0.1648\t Average training accuracy 0.9531\n",
      "Epoch [4]\t Average validation loss 0.1474\t Average validation accuracy 0.9606\n",
      "\n",
      "Epoch [5][20]\t Batch [0][550]\t Training Loss 0.1706\t Accuracy 0.9500\n",
      "Epoch [5][20]\t Batch [50][550]\t Training Loss 0.1625\t Accuracy 0.9565\n",
      "Epoch [5][20]\t Batch [100][550]\t Training Loss 0.1583\t Accuracy 0.9574\n",
      "Epoch [5][20]\t Batch [150][550]\t Training Loss 0.1529\t Accuracy 0.9582\n",
      "Epoch [5][20]\t Batch [200][550]\t Training Loss 0.1498\t Accuracy 0.9586\n",
      "Epoch [5][20]\t Batch [250][550]\t Training Loss 0.1506\t Accuracy 0.9582\n",
      "Epoch [5][20]\t Batch [300][550]\t Training Loss 0.1497\t Accuracy 0.9582\n",
      "Epoch [5][20]\t Batch [350][550]\t Training Loss 0.1473\t Accuracy 0.9583\n",
      "Epoch [5][20]\t Batch [400][550]\t Training Loss 0.1467\t Accuracy 0.9584\n",
      "Epoch [5][20]\t Batch [450][550]\t Training Loss 0.1446\t Accuracy 0.9591\n",
      "Epoch [5][20]\t Batch [500][550]\t Training Loss 0.1439\t Accuracy 0.9593\n",
      "Epoch [5]\t Average training loss 0.1429\t Average training accuracy 0.9596\n",
      "Epoch [5]\t Average validation loss 0.1321\t Average validation accuracy 0.9658\n",
      "\n",
      "Epoch [6][20]\t Batch [0][550]\t Training Loss 0.2040\t Accuracy 0.9400\n",
      "Epoch [6][20]\t Batch [50][550]\t Training Loss 0.1305\t Accuracy 0.9653\n",
      "Epoch [6][20]\t Batch [100][550]\t Training Loss 0.1339\t Accuracy 0.9629\n",
      "Epoch [6][20]\t Batch [150][550]\t Training Loss 0.1293\t Accuracy 0.9648\n",
      "Epoch [6][20]\t Batch [200][550]\t Training Loss 0.1292\t Accuracy 0.9639\n",
      "Epoch [6][20]\t Batch [250][550]\t Training Loss 0.1276\t Accuracy 0.9641\n",
      "Epoch [6][20]\t Batch [300][550]\t Training Loss 0.1283\t Accuracy 0.9639\n",
      "Epoch [6][20]\t Batch [350][550]\t Training Loss 0.1272\t Accuracy 0.9642\n",
      "Epoch [6][20]\t Batch [400][550]\t Training Loss 0.1276\t Accuracy 0.9639\n",
      "Epoch [6][20]\t Batch [450][550]\t Training Loss 0.1265\t Accuracy 0.9644\n",
      "Epoch [6][20]\t Batch [500][550]\t Training Loss 0.1268\t Accuracy 0.9642\n",
      "Epoch [6]\t Average training loss 0.1257\t Average training accuracy 0.9646\n",
      "Epoch [6]\t Average validation loss 0.1225\t Average validation accuracy 0.9670\n",
      "\n",
      "Epoch [7][20]\t Batch [0][550]\t Training Loss 0.1700\t Accuracy 0.9600\n",
      "Epoch [7][20]\t Batch [50][550]\t Training Loss 0.1245\t Accuracy 0.9659\n",
      "Epoch [7][20]\t Batch [100][550]\t Training Loss 0.1156\t Accuracy 0.9670\n",
      "Epoch [7][20]\t Batch [150][550]\t Training Loss 0.1156\t Accuracy 0.9671\n",
      "Epoch [7][20]\t Batch [200][550]\t Training Loss 0.1138\t Accuracy 0.9683\n",
      "Epoch [7][20]\t Batch [250][550]\t Training Loss 0.1142\t Accuracy 0.9683\n",
      "Epoch [7][20]\t Batch [300][550]\t Training Loss 0.1137\t Accuracy 0.9685\n",
      "Epoch [7][20]\t Batch [350][550]\t Training Loss 0.1129\t Accuracy 0.9687\n",
      "Epoch [7][20]\t Batch [400][550]\t Training Loss 0.1118\t Accuracy 0.9690\n",
      "Epoch [7][20]\t Batch [450][550]\t Training Loss 0.1126\t Accuracy 0.9683\n",
      "Epoch [7][20]\t Batch [500][550]\t Training Loss 0.1123\t Accuracy 0.9684\n",
      "Epoch [7]\t Average training loss 0.1121\t Average training accuracy 0.9685\n",
      "Epoch [7]\t Average validation loss 0.1159\t Average validation accuracy 0.9688\n",
      "\n",
      "Epoch [8][20]\t Batch [0][550]\t Training Loss 0.1188\t Accuracy 0.9700\n",
      "Epoch [8][20]\t Batch [50][550]\t Training Loss 0.0968\t Accuracy 0.9757\n",
      "Epoch [8][20]\t Batch [100][550]\t Training Loss 0.1011\t Accuracy 0.9729\n",
      "Epoch [8][20]\t Batch [150][550]\t Training Loss 0.1041\t Accuracy 0.9711\n",
      "Epoch [8][20]\t Batch [200][550]\t Training Loss 0.1051\t Accuracy 0.9703\n",
      "Epoch [8][20]\t Batch [250][550]\t Training Loss 0.1024\t Accuracy 0.9715\n",
      "Epoch [8][20]\t Batch [300][550]\t Training Loss 0.1005\t Accuracy 0.9721\n",
      "Epoch [8][20]\t Batch [350][550]\t Training Loss 0.1007\t Accuracy 0.9723\n",
      "Epoch [8][20]\t Batch [400][550]\t Training Loss 0.1000\t Accuracy 0.9726\n",
      "Epoch [8][20]\t Batch [450][550]\t Training Loss 0.1016\t Accuracy 0.9722\n",
      "Epoch [8][20]\t Batch [500][550]\t Training Loss 0.1015\t Accuracy 0.9721\n"
     ]
    },
    {
     "name": "stdout",
     "output_type": "stream",
     "text": [
      "Epoch [8]\t Average training loss 0.1009\t Average training accuracy 0.9722\n",
      "Epoch [8]\t Average validation loss 0.1045\t Average validation accuracy 0.9718\n",
      "\n",
      "Epoch [9][20]\t Batch [0][550]\t Training Loss 0.0667\t Accuracy 0.9900\n",
      "Epoch [9][20]\t Batch [50][550]\t Training Loss 0.0846\t Accuracy 0.9749\n",
      "Epoch [9][20]\t Batch [100][550]\t Training Loss 0.0898\t Accuracy 0.9744\n",
      "Epoch [9][20]\t Batch [150][550]\t Training Loss 0.0922\t Accuracy 0.9737\n",
      "Epoch [9][20]\t Batch [200][550]\t Training Loss 0.0897\t Accuracy 0.9750\n",
      "Epoch [9][20]\t Batch [250][550]\t Training Loss 0.0899\t Accuracy 0.9751\n",
      "Epoch [9][20]\t Batch [300][550]\t Training Loss 0.0923\t Accuracy 0.9742\n",
      "Epoch [9][20]\t Batch [350][550]\t Training Loss 0.0923\t Accuracy 0.9741\n",
      "Epoch [9][20]\t Batch [400][550]\t Training Loss 0.0913\t Accuracy 0.9745\n",
      "Epoch [9][20]\t Batch [450][550]\t Training Loss 0.0911\t Accuracy 0.9746\n",
      "Epoch [9][20]\t Batch [500][550]\t Training Loss 0.0904\t Accuracy 0.9749\n",
      "Epoch [9]\t Average training loss 0.0916\t Average training accuracy 0.9745\n",
      "Epoch [9]\t Average validation loss 0.1006\t Average validation accuracy 0.9742\n",
      "\n",
      "Epoch [10][20]\t Batch [0][550]\t Training Loss 0.0488\t Accuracy 0.9900\n",
      "Epoch [10][20]\t Batch [50][550]\t Training Loss 0.0870\t Accuracy 0.9759\n",
      "Epoch [10][20]\t Batch [100][550]\t Training Loss 0.0884\t Accuracy 0.9752\n",
      "Epoch [10][20]\t Batch [150][550]\t Training Loss 0.0868\t Accuracy 0.9766\n",
      "Epoch [10][20]\t Batch [200][550]\t Training Loss 0.0857\t Accuracy 0.9773\n",
      "Epoch [10][20]\t Batch [250][550]\t Training Loss 0.0845\t Accuracy 0.9770\n",
      "Epoch [10][20]\t Batch [300][550]\t Training Loss 0.0840\t Accuracy 0.9773\n",
      "Epoch [10][20]\t Batch [350][550]\t Training Loss 0.0849\t Accuracy 0.9771\n",
      "Epoch [10][20]\t Batch [400][550]\t Training Loss 0.0846\t Accuracy 0.9772\n",
      "Epoch [10][20]\t Batch [450][550]\t Training Loss 0.0836\t Accuracy 0.9771\n",
      "Epoch [10][20]\t Batch [500][550]\t Training Loss 0.0842\t Accuracy 0.9767\n",
      "Epoch [10]\t Average training loss 0.0839\t Average training accuracy 0.9767\n",
      "Epoch [10]\t Average validation loss 0.0926\t Average validation accuracy 0.9732\n",
      "\n",
      "Epoch [11][20]\t Batch [0][550]\t Training Loss 0.0548\t Accuracy 0.9800\n",
      "Epoch [11][20]\t Batch [50][550]\t Training Loss 0.0767\t Accuracy 0.9757\n",
      "Epoch [11][20]\t Batch [100][550]\t Training Loss 0.0730\t Accuracy 0.9791\n",
      "Epoch [11][20]\t Batch [150][550]\t Training Loss 0.0747\t Accuracy 0.9792\n",
      "Epoch [11][20]\t Batch [200][550]\t Training Loss 0.0745\t Accuracy 0.9793\n",
      "Epoch [11][20]\t Batch [250][550]\t Training Loss 0.0757\t Accuracy 0.9789\n",
      "Epoch [11][20]\t Batch [300][550]\t Training Loss 0.0772\t Accuracy 0.9785\n",
      "Epoch [11][20]\t Batch [350][550]\t Training Loss 0.0769\t Accuracy 0.9789\n",
      "Epoch [11][20]\t Batch [400][550]\t Training Loss 0.0769\t Accuracy 0.9791\n",
      "Epoch [11][20]\t Batch [450][550]\t Training Loss 0.0769\t Accuracy 0.9791\n",
      "Epoch [11][20]\t Batch [500][550]\t Training Loss 0.0763\t Accuracy 0.9793\n",
      "Epoch [11]\t Average training loss 0.0771\t Average training accuracy 0.9790\n",
      "Epoch [11]\t Average validation loss 0.0880\t Average validation accuracy 0.9744\n",
      "\n",
      "Epoch [12][20]\t Batch [0][550]\t Training Loss 0.0188\t Accuracy 1.0000\n",
      "Epoch [12][20]\t Batch [50][550]\t Training Loss 0.0701\t Accuracy 0.9814\n",
      "Epoch [12][20]\t Batch [100][550]\t Training Loss 0.0672\t Accuracy 0.9815\n",
      "Epoch [12][20]\t Batch [150][550]\t Training Loss 0.0706\t Accuracy 0.9805\n",
      "Epoch [12][20]\t Batch [200][550]\t Training Loss 0.0711\t Accuracy 0.9809\n",
      "Epoch [12][20]\t Batch [250][550]\t Training Loss 0.0724\t Accuracy 0.9814\n",
      "Epoch [12][20]\t Batch [300][550]\t Training Loss 0.0722\t Accuracy 0.9812\n",
      "Epoch [12][20]\t Batch [350][550]\t Training Loss 0.0721\t Accuracy 0.9811\n",
      "Epoch [12][20]\t Batch [400][550]\t Training Loss 0.0713\t Accuracy 0.9813\n",
      "Epoch [12][20]\t Batch [450][550]\t Training Loss 0.0711\t Accuracy 0.9812\n",
      "Epoch [12][20]\t Batch [500][550]\t Training Loss 0.0713\t Accuracy 0.9811\n",
      "Epoch [12]\t Average training loss 0.0710\t Average training accuracy 0.9811\n",
      "Epoch [12]\t Average validation loss 0.0846\t Average validation accuracy 0.9756\n",
      "\n",
      "Epoch [13][20]\t Batch [0][550]\t Training Loss 0.0492\t Accuracy 0.9900\n",
      "Epoch [13][20]\t Batch [50][550]\t Training Loss 0.0717\t Accuracy 0.9806\n",
      "Epoch [13][20]\t Batch [100][550]\t Training Loss 0.0713\t Accuracy 0.9809\n",
      "Epoch [13][20]\t Batch [150][550]\t Training Loss 0.0684\t Accuracy 0.9813\n",
      "Epoch [13][20]\t Batch [200][550]\t Training Loss 0.0675\t Accuracy 0.9817\n",
      "Epoch [13][20]\t Batch [250][550]\t Training Loss 0.0667\t Accuracy 0.9817\n",
      "Epoch [13][20]\t Batch [300][550]\t Training Loss 0.0676\t Accuracy 0.9813\n",
      "Epoch [13][20]\t Batch [350][550]\t Training Loss 0.0672\t Accuracy 0.9813\n",
      "Epoch [13][20]\t Batch [400][550]\t Training Loss 0.0674\t Accuracy 0.9812\n",
      "Epoch [13][20]\t Batch [450][550]\t Training Loss 0.0674\t Accuracy 0.9815\n",
      "Epoch [13][20]\t Batch [500][550]\t Training Loss 0.0670\t Accuracy 0.9816\n",
      "Epoch [13]\t Average training loss 0.0659\t Average training accuracy 0.9819\n",
      "Epoch [13]\t Average validation loss 0.0842\t Average validation accuracy 0.9760\n",
      "\n",
      "Epoch [14][20]\t Batch [0][550]\t Training Loss 0.0220\t Accuracy 1.0000\n",
      "Epoch [14][20]\t Batch [50][550]\t Training Loss 0.0608\t Accuracy 0.9839\n",
      "Epoch [14][20]\t Batch [100][550]\t Training Loss 0.0646\t Accuracy 0.9825\n",
      "Epoch [14][20]\t Batch [150][550]\t Training Loss 0.0642\t Accuracy 0.9821\n",
      "Epoch [14][20]\t Batch [200][550]\t Training Loss 0.0628\t Accuracy 0.9828\n",
      "Epoch [14][20]\t Batch [250][550]\t Training Loss 0.0618\t Accuracy 0.9832\n",
      "Epoch [14][20]\t Batch [300][550]\t Training Loss 0.0622\t Accuracy 0.9830\n",
      "Epoch [14][20]\t Batch [350][550]\t Training Loss 0.0622\t Accuracy 0.9830\n",
      "Epoch [14][20]\t Batch [400][550]\t Training Loss 0.0616\t Accuracy 0.9831\n",
      "Epoch [14][20]\t Batch [450][550]\t Training Loss 0.0612\t Accuracy 0.9833\n",
      "Epoch [14][20]\t Batch [500][550]\t Training Loss 0.0618\t Accuracy 0.9832\n",
      "Epoch [14]\t Average training loss 0.0612\t Average training accuracy 0.9834\n",
      "Epoch [14]\t Average validation loss 0.0789\t Average validation accuracy 0.9776\n",
      "\n",
      "Epoch [15][20]\t Batch [0][550]\t Training Loss 0.0441\t Accuracy 0.9900\n",
      "Epoch [15][20]\t Batch [50][550]\t Training Loss 0.0526\t Accuracy 0.9849\n",
      "Epoch [15][20]\t Batch [100][550]\t Training Loss 0.0567\t Accuracy 0.9848\n",
      "Epoch [15][20]\t Batch [150][550]\t Training Loss 0.0557\t Accuracy 0.9855\n",
      "Epoch [15][20]\t Batch [200][550]\t Training Loss 0.0566\t Accuracy 0.9852\n",
      "Epoch [15][20]\t Batch [250][550]\t Training Loss 0.0576\t Accuracy 0.9846\n",
      "Epoch [15][20]\t Batch [300][550]\t Training Loss 0.0568\t Accuracy 0.9847\n",
      "Epoch [15][20]\t Batch [350][550]\t Training Loss 0.0568\t Accuracy 0.9847\n",
      "Epoch [15][20]\t Batch [400][550]\t Training Loss 0.0573\t Accuracy 0.9845\n",
      "Epoch [15][20]\t Batch [450][550]\t Training Loss 0.0572\t Accuracy 0.9842\n",
      "Epoch [15][20]\t Batch [500][550]\t Training Loss 0.0571\t Accuracy 0.9843\n",
      "Epoch [15]\t Average training loss 0.0571\t Average training accuracy 0.9843\n",
      "Epoch [15]\t Average validation loss 0.0771\t Average validation accuracy 0.9764\n",
      "\n",
      "Epoch [16][20]\t Batch [0][550]\t Training Loss 0.0343\t Accuracy 1.0000\n",
      "Epoch [16][20]\t Batch [50][550]\t Training Loss 0.0491\t Accuracy 0.9876\n",
      "Epoch [16][20]\t Batch [100][550]\t Training Loss 0.0516\t Accuracy 0.9871\n",
      "Epoch [16][20]\t Batch [150][550]\t Training Loss 0.0532\t Accuracy 0.9862\n",
      "Epoch [16][20]\t Batch [200][550]\t Training Loss 0.0544\t Accuracy 0.9860\n",
      "Epoch [16][20]\t Batch [250][550]\t Training Loss 0.0555\t Accuracy 0.9856\n",
      "Epoch [16][20]\t Batch [300][550]\t Training Loss 0.0552\t Accuracy 0.9855\n",
      "Epoch [16][20]\t Batch [350][550]\t Training Loss 0.0551\t Accuracy 0.9856\n",
      "Epoch [16][20]\t Batch [400][550]\t Training Loss 0.0543\t Accuracy 0.9859\n",
      "Epoch [16][20]\t Batch [450][550]\t Training Loss 0.0537\t Accuracy 0.9861\n",
      "Epoch [16][20]\t Batch [500][550]\t Training Loss 0.0535\t Accuracy 0.9862\n",
      "Epoch [16]\t Average training loss 0.0535\t Average training accuracy 0.9863\n",
      "Epoch [16]\t Average validation loss 0.0754\t Average validation accuracy 0.9768\n",
      "\n",
      "Epoch [17][20]\t Batch [0][550]\t Training Loss 0.0261\t Accuracy 0.9900\n",
      "Epoch [17][20]\t Batch [50][550]\t Training Loss 0.0499\t Accuracy 0.9853\n",
      "Epoch [17][20]\t Batch [100][550]\t Training Loss 0.0485\t Accuracy 0.9871\n",
      "Epoch [17][20]\t Batch [150][550]\t Training Loss 0.0482\t Accuracy 0.9870\n",
      "Epoch [17][20]\t Batch [200][550]\t Training Loss 0.0490\t Accuracy 0.9868\n",
      "Epoch [17][20]\t Batch [250][550]\t Training Loss 0.0495\t Accuracy 0.9863\n",
      "Epoch [17][20]\t Batch [300][550]\t Training Loss 0.0483\t Accuracy 0.9871\n"
     ]
    },
    {
     "name": "stdout",
     "output_type": "stream",
     "text": [
      "Epoch [17][20]\t Batch [350][550]\t Training Loss 0.0490\t Accuracy 0.9869\n",
      "Epoch [17][20]\t Batch [400][550]\t Training Loss 0.0500\t Accuracy 0.9865\n",
      "Epoch [17][20]\t Batch [450][550]\t Training Loss 0.0505\t Accuracy 0.9862\n",
      "Epoch [17][20]\t Batch [500][550]\t Training Loss 0.0502\t Accuracy 0.9863\n",
      "Epoch [17]\t Average training loss 0.0503\t Average training accuracy 0.9863\n",
      "Epoch [17]\t Average validation loss 0.0727\t Average validation accuracy 0.9782\n",
      "\n",
      "Epoch [18][20]\t Batch [0][550]\t Training Loss 0.0128\t Accuracy 1.0000\n",
      "Epoch [18][20]\t Batch [50][550]\t Training Loss 0.0399\t Accuracy 0.9900\n",
      "Epoch [18][20]\t Batch [100][550]\t Training Loss 0.0462\t Accuracy 0.9885\n",
      "Epoch [18][20]\t Batch [150][550]\t Training Loss 0.0474\t Accuracy 0.9879\n",
      "Epoch [18][20]\t Batch [200][550]\t Training Loss 0.0477\t Accuracy 0.9876\n",
      "Epoch [18][20]\t Batch [250][550]\t Training Loss 0.0468\t Accuracy 0.9883\n",
      "Epoch [18][20]\t Batch [300][550]\t Training Loss 0.0476\t Accuracy 0.9879\n",
      "Epoch [18][20]\t Batch [350][550]\t Training Loss 0.0475\t Accuracy 0.9876\n",
      "Epoch [18][20]\t Batch [400][550]\t Training Loss 0.0472\t Accuracy 0.9878\n",
      "Epoch [18][20]\t Batch [450][550]\t Training Loss 0.0467\t Accuracy 0.9880\n",
      "Epoch [18][20]\t Batch [500][550]\t Training Loss 0.0469\t Accuracy 0.9877\n",
      "Epoch [18]\t Average training loss 0.0471\t Average training accuracy 0.9878\n",
      "Epoch [18]\t Average validation loss 0.0731\t Average validation accuracy 0.9790\n",
      "\n",
      "Epoch [19][20]\t Batch [0][550]\t Training Loss 0.0422\t Accuracy 0.9800\n",
      "Epoch [19][20]\t Batch [50][550]\t Training Loss 0.0439\t Accuracy 0.9892\n",
      "Epoch [19][20]\t Batch [100][550]\t Training Loss 0.0434\t Accuracy 0.9886\n",
      "Epoch [19][20]\t Batch [150][550]\t Training Loss 0.0452\t Accuracy 0.9879\n",
      "Epoch [19][20]\t Batch [200][550]\t Training Loss 0.0435\t Accuracy 0.9886\n",
      "Epoch [19][20]\t Batch [250][550]\t Training Loss 0.0436\t Accuracy 0.9884\n",
      "Epoch [19][20]\t Batch [300][550]\t Training Loss 0.0442\t Accuracy 0.9885\n",
      "Epoch [19][20]\t Batch [350][550]\t Training Loss 0.0441\t Accuracy 0.9887\n",
      "Epoch [19][20]\t Batch [400][550]\t Training Loss 0.0443\t Accuracy 0.9886\n",
      "Epoch [19][20]\t Batch [450][550]\t Training Loss 0.0437\t Accuracy 0.9888\n",
      "Epoch [19][20]\t Batch [500][550]\t Training Loss 0.0442\t Accuracy 0.9885\n",
      "Epoch [19]\t Average training loss 0.0442\t Average training accuracy 0.9886\n",
      "Epoch [19]\t Average validation loss 0.0718\t Average validation accuracy 0.9784\n",
      "\n"
     ]
    }
   ],
   "source": [
    "model, loss, acc = train(model, criterion, optimizer, mnist, max_epoch, batch_size, disp_freq)"
   ]
  },
  {
   "cell_type": "markdown",
   "metadata": {},
   "source": [
    "### Plot curves"
   ]
  },
  {
   "cell_type": "code",
   "execution_count": 7,
   "metadata": {
    "scrolled": false
   },
   "outputs": [
    {
     "data": {
      "image/png": "[encoded data removed]",
      "text/plain": [
       "<matplotlib.figure.Figure at 0x112a75710>"
      ]
     },
     "metadata": {},
     "output_type": "display_data"
    },
    {
     "data": {
      "image/png": "[encoded data removed]",
      "text/plain": [
       "<matplotlib.figure.Figure at 0x115e26f50>"
      ]
     },
     "metadata": {},
     "output_type": "display_data"
    }
   ],
   "source": [
    "plot_loss_and_acc({'BuiltInFc': [loss, acc]})"
   ]
  },
  {
   "cell_type": "markdown",
   "metadata": {},
   "source": [
    "### Test model"
   ]
  },
  {
   "cell_type": "code",
   "execution_count": 8,
   "metadata": {},
   "outputs": [
    {
     "name": "stdout",
     "output_type": "stream",
     "text": [
      "Testing\n",
      "Batch [0][100]\t Accuracy 1.0000\n",
      "Batch [50][100]\t Accuracy 0.9688\n",
      "The test accuracy is 0.9770.\n",
      "\n"
     ]
    }
   ],
   "source": [
    "test(model, criterion, mnist, batch_size, disp_freq)"
   ]
  }
 ],
 "metadata": {
  "anaconda-cloud": {},
  "kernelspec": {
   "display_name": "Python 2",
   "language": "python",
   "name": "python2"
  },
  "language_info": {
   "codemirror_mode": {
    "name": "ipython",
    "version": 2
   },
   "file_extension": ".py",
   "mimetype": "text/x-python",
   "name": "python",
   "nbconvert_exporter": "python",
   "pygments_lexer": "ipython2",
   "version": "2.7.12"
  },
  "widgets": {
   "state": {},
   "version": "1.1.2"
  }
 },
 "nbformat": 4,
 "nbformat_minor": 1
}
